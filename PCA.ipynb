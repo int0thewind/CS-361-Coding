{
 "cells": [
  {
   "cell_type": "markdown",
   "metadata": {},
   "source": [
    "# An example of PCA"
   ]
  },
  {
   "cell_type": "code",
   "execution_count": 2,
   "metadata": {},
   "outputs": [],
   "source": [
    "import numpy as np\n",
    "from numpy import linalg as LA"
   ]
  },
  {
   "cell_type": "code",
   "execution_count": 27,
   "metadata": {},
   "outputs": [
    {
     "name": "stdout",
     "output_type": "stream",
     "text": [
      "[ 3.07417596 56.92582404] \n",
      "\n",
      " [[-0.82806723 -0.56062881]\n",
      " [ 0.56062881 -0.82806723]]\n"
     ]
    }
   ],
   "source": [
    "# Sample matrix with 2 features and 6 elements\n",
    "# Features are row, and elements are column\n",
    "D = np.array([[3,-4,7,1,-4,-3],[7,-6,8,-1,-1,-7]])\n",
    "# Normalise D\n",
    "for i in range(len(D)):\n",
    "    D[i] = D[i] - np.mean(D[i])\n",
    "# Get the covariance matrix, its eigen values and matrix\n",
    "covmatD = np.matmul(D, D.transpose()) / (D.shape[1] - 1)\n",
    "eigValue, eigVector = LA.eig(covmatD)\n",
    "print(eigValue, \"\\n\\n\", eigVector)"
   ]
  },
  {
   "cell_type": "code",
   "execution_count": 35,
   "metadata": {},
   "outputs": [
    {
     "data": {
      "text/plain": [
       "array([[-2.54562438,  1.72347161],\n",
       "       [-1.72347161, -2.54562438]])"
      ]
     },
     "execution_count": 35,
     "metadata": {},
     "output_type": "execute_result"
    }
   ],
   "source": [
    "eigValue[0] * eigVector.transpose()"
   ]
  },
  {
   "cell_type": "code",
   "execution_count": null,
   "metadata": {},
   "outputs": [],
   "source": []
  }
 ],
 "metadata": {
  "kernelspec": {
   "display_name": "Python 3",
   "language": "python",
   "name": "python3"
  },
  "language_info": {
   "codemirror_mode": {
    "name": "ipython",
    "version": 3
   },
   "file_extension": ".py",
   "mimetype": "text/x-python",
   "name": "python",
   "nbconvert_exporter": "python",
   "pygments_lexer": "ipython3",
   "version": "3.8.2"
  }
 },
 "nbformat": 4,
 "nbformat_minor": 4
}
