{
 "cells": [
  {
   "cell_type": "markdown",
   "metadata": {},
   "source": [
    "# Homework 7"
   ]
  },
  {
   "cell_type": "code",
   "execution_count": 1,
   "metadata": {},
   "outputs": [],
   "source": [
    "import numpy as np\n",
    "import pandas as pd\n",
    "import matplotlib.pyplot as plt\n",
    "%matplotlib inline\n",
    "import time"
   ]
  },
  {
   "cell_type": "markdown",
   "metadata": {},
   "source": [
    "## Textbook 6.10"
   ]
  },
  {
   "cell_type": "markdown",
   "metadata": {},
   "source": [
    "**Never run these cells again, or you would feel regret**"
   ]
  },
  {
   "cell_type": "code",
   "execution_count": 2,
   "metadata": {},
   "outputs": [
    {
     "name": "stdout",
     "output_type": "stream",
     "text": [
      "The true median of the length of abalone is 0.544921875\n"
     ]
    }
   ],
   "source": [
    "abaloneDataFrame = pd.read_csv(\"abalone/abalone.data\")\n",
    "abaloneDataFrame.columns = [\"Sex\", \"Length\", \"Diameter\", \"Height\", \"Whole weight\", \"Shucked weight\",\"Viscera weight\", \"Shell weight\", \"Rings\"]\n",
    "abaloneLength = abaloneDataFrame[\"Length\"].astype(\"float16\")\n",
    "abaloneLengthMedian = np.median(abaloneLength)\n",
    "print(f\"The true median of the length of abalone is {abaloneLengthMedian}\")"
   ]
  },
  {
   "cell_type": "markdown",
   "metadata": {},
   "source": [
    "### (a)"
   ]
  },
  {
   "cell_type": "code",
   "execution_count": 8,
   "metadata": {},
   "outputs": [
    {
     "name": "stdout",
     "output_type": "stream",
     "text": [
      "The first bootstrap median is 0.5486279296875, and its standard deviation is 0.015811123663670254\n",
      "The 90% confidence interval is [0.522539575642444, 0.5747162837325559]\n"
     ]
    },
    {
     "data": {
      "image/png": "[encoded data removed]",
      "text/plain": [
       "<Figure size 432x288 with 1 Axes>"
      ]
     },
     "metadata": {
      "needs_background": "light"
     },
     "output_type": "display_data"
    },
    {
     "name": "stdout",
     "output_type": "stream",
     "text": [
      "True population median falls in our bootstrapped confidence interval: 0.89275\n",
      "Time elapsed: 2003.265899181366\n"
     ]
    }
   ],
   "source": [
    "start = time.time()\n",
    "CI = np.zeros((4000, 2))\n",
    "indicator = 0\n",
    "for i in range(4000):\n",
    "    randomSample = np.random.choice(abaloneLength, size=100, replace=False)\n",
    "    bootstrapMedians = np.zeros(7000)\n",
    "    for j in range(7000):\n",
    "        bootstrapMedians[j] = np.median(np.random.choice(randomSample, size=100, replace=True))\n",
    "    median = np.mean(bootstrapMedians)\n",
    "    std = np.std(bootstrapMedians)\n",
    "    CI[i, :] = [median - 1.65*std, median + 1.65*std]\n",
    "    if CI[i, 0] <= abaloneLengthMedian <= CI[i, 1]: indicator += 1\n",
    "    if i == 0:\n",
    "        print(f\"The first bootstrap median is {median}, and its standard deviation is {std}\")\n",
    "        print(f\"The 90% confidence interval is [{CI[0, 0]}, {CI[0, 1]}]\")\n",
    "        plt.figure(\"Bootstrap Median of sample with size 100\")\n",
    "        plt.hist(bootstrapMedians)\n",
    "        plt.xlabel(\"Bootstrap Medians\")\n",
    "        plt.ylabel(\"Abalone Length\")\n",
    "        plt.show()\n",
    "print(f\"True population median falls in our bootstrapped confidence interval: {indicator / 4000}\")\n",
    "end = time.time()\n",
    "print(f\"Time elapsed: {end - start}\")"
   ]
  },
  {
   "cell_type": "markdown",
   "metadata": {},
   "source": [
    "### (c)"
   ]
  },
  {
   "cell_type": "code",
   "execution_count": 9,
   "metadata": {},
   "outputs": [
    {
     "name": "stdout",
     "output_type": "stream",
     "text": [
      "The first bootstrap median is 0.48295002092633926, and its standard deviation is 0.040097469288193605\n",
      "The 90% confidence interval is [0.4167891966008198, 0.5491108452518587]\n"
     ]
    },
    {
     "data": {
      "image/png": "[encoded data removed]",
      "text/plain": [
       "<Figure size 432x288 with 1 Axes>"
      ]
     },
     "metadata": {
      "needs_background": "light"
     },
     "output_type": "display_data"
    },
    {
     "name": "stdout",
     "output_type": "stream",
     "text": [
      "True population median falls in our bootstrapped confidence interval: 0.8915\n",
      "Time elapsed: 1952.8410949707031\n"
     ]
    }
   ],
   "source": [
    "start = time.time()\n",
    "CI = np.zeros((4000, 2))\n",
    "indicator = 0\n",
    "for i in range(4000):\n",
    "    randomSample = np.random.choice(abaloneLength, size=10, replace=False)\n",
    "    bootstrapMedians = np.zeros(7000)\n",
    "    for j in range(7000):\n",
    "        bootstrapMedians[j] = np.median(np.random.choice(randomSample, size=10, replace=True))\n",
    "    median = np.mean(bootstrapMedians)\n",
    "    std = np.std(bootstrapMedians)\n",
    "    CI[i, :] = [median - 1.65*std, median + 1.65*std]\n",
    "    if CI[i, 0] <= abaloneLengthMedian <= CI[i, 1]: indicator += 1\n",
    "    if i == 0:\n",
    "        print(f\"The first bootstrap median is {median}, and its standard deviation is {std}\")\n",
    "        print(f\"The 90% confidence interval is [{CI[0, 0]}, {CI[0, 1]}]\")\n",
    "        plt.figure(\"Bootstrap Median of sample with size 100\")\n",
    "        plt.hist(bootstrapMedians)\n",
    "        plt.xlabel(\"Bootstrap Medians\")\n",
    "        plt.ylabel(\"Abalone Length\")\n",
    "        plt.show()\n",
    "print(f\"True population median falls in our bootstrapped confidence interval: {indicator / 4000}\")\n",
    "end = time.time()\n",
    "print(f\"Time elapsed: {end - start}\")"
   ]
  },
  {
   "cell_type": "code",
   "execution_count": null,
   "metadata": {},
   "outputs": [],
   "source": []
  }
 ],
 "metadata": {
  "kernelspec": {
   "display_name": "Python 3.8.2 64-bit",
   "language": "python",
   "name": "python38264bit31fc4a2d729546639aef3e18415c3a10"
  },
  "language_info": {
   "codemirror_mode": {
    "name": "ipython",
    "version": 3
   },
   "file_extension": ".py",
   "mimetype": "text/x-python",
   "name": "python",
   "nbconvert_exporter": "python",
   "pygments_lexer": "ipython3",
   "version": "3.8.2"
  }
 },
 "nbformat": 4,
 "nbformat_minor": 4
}
