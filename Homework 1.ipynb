{
 "cells": [
  {
   "cell_type": "code",
   "execution_count": 1,
   "metadata": {},
   "outputs": [],
   "source": [
    "import statistics\n",
    "import pandas as pd\n",
    "import matplotlib.pyplot as plt\n",
    "%matplotlib inline\n",
    "import numpy as np\n",
    "import scipy.stats as stats"
   ]
  },
  {
   "cell_type": "markdown",
   "metadata": {},
   "source": [
    "# Homework 1.3 Data 1.11"
   ]
  },
  {
   "cell_type": "code",
   "execution_count": 2,
   "metadata": {},
   "outputs": [
    {
     "data": {
      "text/html": [
       "<div>\n",
       "<style scoped>\n",
       "    .dataframe tbody tr th:only-of-type {\n",
       "        vertical-align: middle;\n",
       "    }\n",
       "\n",
       "    .dataframe tbody tr th {\n",
       "        vertical-align: top;\n",
       "    }\n",
       "\n",
       "    .dataframe thead th {\n",
       "        text-align: right;\n",
       "    }\n",
       "</style>\n",
       "<table border=\"1\" class=\"dataframe\">\n",
       "  <thead>\n",
       "    <tr style=\"text-align: right;\">\n",
       "      <th></th>\n",
       "      <th>Cost</th>\n",
       "      <th>MWatts</th>\n",
       "      <th>Date</th>\n",
       "    </tr>\n",
       "  </thead>\n",
       "  <tbody>\n",
       "    <tr>\n",
       "      <th>0</th>\n",
       "      <td>345.39</td>\n",
       "      <td>514</td>\n",
       "      <td>67.92</td>\n",
       "    </tr>\n",
       "    <tr>\n",
       "      <th>1</th>\n",
       "      <td>460.05</td>\n",
       "      <td>687</td>\n",
       "      <td>68.58</td>\n",
       "    </tr>\n",
       "    <tr>\n",
       "      <th>2</th>\n",
       "      <td>452.99</td>\n",
       "      <td>1065</td>\n",
       "      <td>67.33</td>\n",
       "    </tr>\n",
       "    <tr>\n",
       "      <th>3</th>\n",
       "      <td>443.22</td>\n",
       "      <td>1065</td>\n",
       "      <td>67.33</td>\n",
       "    </tr>\n",
       "    <tr>\n",
       "      <th>4</th>\n",
       "      <td>652.32</td>\n",
       "      <td>1065</td>\n",
       "      <td>68.00</td>\n",
       "    </tr>\n",
       "  </tbody>\n",
       "</table>\n",
       "</div>"
      ],
      "text/plain": [
       "     Cost  MWatts   Date\n",
       "0  345.39     514  67.92\n",
       "1  460.05     687  68.58\n",
       "2  452.99    1065  67.33\n",
       "3  443.22    1065  67.33\n",
       "4  652.32    1065  68.00"
      ]
     },
     "execution_count": 2,
     "metadata": {},
     "output_type": "execute_result"
    }
   ],
   "source": [
    "# Read data\n",
    "data11 = pd.read_csv(\"1.11.csv\")\n",
    "data11.head()"
   ]
  },
  {
   "cell_type": "markdown",
   "metadata": {},
   "source": [
    "## Check outliers by ploting box plots"
   ]
  },
  {
   "cell_type": "code",
   "execution_count": 3,
   "metadata": {},
   "outputs": [
    {
     "data": {
      "image/png": "[encoded data removed]",
      "text/plain": [
       "<Figure size 432x288 with 3 Axes>"
      ]
     },
     "metadata": {
      "needs_background": "light"
     },
     "output_type": "display_data"
    }
   ],
   "source": [
    "plt.subplot(1, 3, 1)\n",
    "plt.boxplot(data11[\"Cost\"])\n",
    "plt.title(\"Cost outliers check\")\n",
    "\n",
    "plt.subplot(1, 3, 2)\n",
    "plt.boxplot(data11[\"MWatts\"])\n",
    "plt.title(\"MWatts outliers check\")\n",
    "\n",
    "plt.subplot(1, 3, 3)\n",
    "plt.boxplot(data11[\"Date\"])\n",
    "plt.title(\"Date outliers check\")\n",
    "\n",
    "plt.subplots_adjust(wspace=1.0)\n",
    "plt.savefig(\"figure/1.11 outliers check.png\")"
   ]
  },
  {
   "cell_type": "markdown",
   "metadata": {},
   "source": [
    "## Mean and Standard Deviation for Cost and MWatts"
   ]
  },
  {
   "cell_type": "code",
   "execution_count": 4,
   "metadata": {},
   "outputs": [
    {
     "name": "stdout",
     "output_type": "stream",
     "text": [
      "The mean value of costs is 461.5603125, and its standard deviation is 170.12066957318333\n"
     ]
    }
   ],
   "source": [
    "costs = data11[\"Cost\"].values\n",
    "print(f\"The mean value of costs is {(statistics.mean(costs))}, and its standard deviation is {statistics.stdev(costs)}\")"
   ]
  },
  {
   "cell_type": "code",
   "execution_count": 5,
   "metadata": {},
   "outputs": [
    {
     "name": "stdout",
     "output_type": "stream",
     "text": [
      "The mean value of costs per mega watts is 0.569735439641486, and its standard deviation is 0.1871243018960576\n"
     ]
    }
   ],
   "source": [
    "costs_per_MWatts = costs / data11[\"MWatts\"].values\n",
    "print(f\"The mean value of costs per mega watts is {statistics.mean(costs_per_MWatts)}, and its standard deviation is {statistics.stdev(costs_per_MWatts)}\")"
   ]
  },
  {
   "cell_type": "markdown",
   "metadata": {},
   "source": [
    "## Costs per Mega Watts Histogram"
   ]
  },
  {
   "cell_type": "code",
   "execution_count": 6,
   "metadata": {},
   "outputs": [
    {
     "name": "stdout",
     "output_type": "stream",
     "text": [
      "True\n"
     ]
    },
    {
     "data": {
      "image/png": "[encoded data removed]",
      "text/plain": [
       "<Figure size 432x288 with 1 Axes>"
      ]
     },
     "metadata": {
      "needs_background": "light"
     },
     "output_type": "display_data"
    }
   ],
   "source": [
    "plt.hist(costs_per_MWatts)\n",
    "plt.title(\"Costs per Mega Watts\")\n",
    "plt.xlabel(\"Costs per Mega Watts\")\n",
    "plt.ylabel(\"Number of factories\")\n",
    "plt.savefig(\"figure/1.11 Costs per Mega Watts histogram.png\")\n",
    "print(statistics.mean(costs_per_MWatts) <= statistics.median(costs_per_MWatts))"
   ]
  },
  {
   "cell_type": "markdown",
   "metadata": {},
   "source": [
    "# Homework 1.4 Data 12"
   ]
  },
  {
   "cell_type": "code",
   "execution_count": 7,
   "metadata": {},
   "outputs": [
    {
     "data": {
      "text/html": [
       "<div>\n",
       "<style scoped>\n",
       "    .dataframe tbody tr th:only-of-type {\n",
       "        vertical-align: middle;\n",
       "    }\n",
       "\n",
       "    .dataframe tbody tr th {\n",
       "        vertical-align: top;\n",
       "    }\n",
       "\n",
       "    .dataframe thead th {\n",
       "        text-align: right;\n",
       "    }\n",
       "</style>\n",
       "<table border=\"1\" class=\"dataframe\">\n",
       "  <thead>\n",
       "    <tr style=\"text-align: right;\">\n",
       "      <th></th>\n",
       "      <th>Type</th>\n",
       "      <th>Calories</th>\n",
       "      <th>Sodium</th>\n",
       "    </tr>\n",
       "  </thead>\n",
       "  <tbody>\n",
       "    <tr>\n",
       "      <th>0</th>\n",
       "      <td>Beef</td>\n",
       "      <td>186</td>\n",
       "      <td>495</td>\n",
       "    </tr>\n",
       "    <tr>\n",
       "      <th>1</th>\n",
       "      <td>Beef</td>\n",
       "      <td>181</td>\n",
       "      <td>477</td>\n",
       "    </tr>\n",
       "    <tr>\n",
       "      <th>2</th>\n",
       "      <td>Beef</td>\n",
       "      <td>176</td>\n",
       "      <td>425</td>\n",
       "    </tr>\n",
       "    <tr>\n",
       "      <th>3</th>\n",
       "      <td>Beef</td>\n",
       "      <td>149</td>\n",
       "      <td>322</td>\n",
       "    </tr>\n",
       "    <tr>\n",
       "      <th>4</th>\n",
       "      <td>Beef</td>\n",
       "      <td>184</td>\n",
       "      <td>482</td>\n",
       "    </tr>\n",
       "  </tbody>\n",
       "</table>\n",
       "</div>"
      ],
      "text/plain": [
       "   Type  Calories  Sodium\n",
       "0  Beef       186     495\n",
       "1  Beef       181     477\n",
       "2  Beef       176     425\n",
       "3  Beef       149     322\n",
       "4  Beef       184     482"
      ]
     },
     "execution_count": 7,
     "metadata": {},
     "output_type": "execute_result"
    }
   ],
   "source": [
    "data12 = pd.read_csv(\"1.12.csv\")\n",
    "data12.head()"
   ]
  },
  {
   "cell_type": "code",
   "execution_count": 8,
   "metadata": {},
   "outputs": [
    {
     "data": {
      "image/png": "[encoded data removed]",
      "text/plain": [
       "<Figure size 432x288 with 2 Axes>"
      ]
     },
     "metadata": {
      "needs_background": "light"
     },
     "output_type": "display_data"
    }
   ],
   "source": [
    "data12_beef = data12[data12[\"Type\"] == \"Beef\"]\n",
    "data12_meat = data12[data12[\"Type\"] == \"Meat\"]\n",
    "data12_poultry = data12[data12[\"Type\"] == \"Poultry\"]\n",
    "\n",
    "colours = [\"red\", \"green\", \"blue\"]\n",
    "labels = [\"beef\", \"meat\", \"poultry\"]\n",
    "\n",
    "plt.subplot(1, 2, 1)\n",
    "calories = [data12_beef[\"Calories\"], data12_meat[\"Calories\"], data12_poultry[\"Calories\"]]\n",
    "plt.hist(calories, histtype=\"bar\", color=colours, label=labels)\n",
    "plt.legend(prop={\"size\": 10})\n",
    "plt.xlabel(\"Calories in each types of hotdog\")\n",
    "plt.ylabel(\"Count\")\n",
    "\n",
    "plt.subplot(1, 2, 2)\n",
    "sodium = [data12_beef[\"Sodium\"], data12_meat[\"Sodium\"], data12_poultry[\"Sodium\"]]\n",
    "plt.hist(calories, histtype=\"bar\", color=colours, label=labels)\n",
    "plt.legend(prop={\"size\": 10})\n",
    "plt.xlabel(\"Sodium in each types of hotdog\")\n",
    "plt.ylabel(\"Count\")\n",
    "\n",
    "plt.subplots_adjust(wspace=0.5)\n",
    "plt.savefig(\"figure/1.12 conditional histogram.png\")"
   ]
  },
  {
   "cell_type": "markdown",
   "metadata": {},
   "source": [
    "# Homework 1 Data 1.13"
   ]
  },
  {
   "cell_type": "code",
   "execution_count": 10,
   "metadata": {},
   "outputs": [
    {
     "data": {
      "text/html": [
       "<div>\n",
       "<style scoped>\n",
       "    .dataframe tbody tr th:only-of-type {\n",
       "        vertical-align: middle;\n",
       "    }\n",
       "\n",
       "    .dataframe tbody tr th {\n",
       "        vertical-align: top;\n",
       "    }\n",
       "\n",
       "    .dataframe thead th {\n",
       "        text-align: right;\n",
       "    }\n",
       "</style>\n",
       "<table border=\"1\" class=\"dataframe\">\n",
       "  <thead>\n",
       "    <tr style=\"text-align: right;\">\n",
       "      <th></th>\n",
       "      <th>WDS</th>\n",
       "      <th>SEN</th>\n",
       "      <th>3SYL</th>\n",
       "      <th>MAG</th>\n",
       "      <th>GROUP</th>\n",
       "    </tr>\n",
       "  </thead>\n",
       "  <tbody>\n",
       "    <tr>\n",
       "      <th>0</th>\n",
       "      <td>205</td>\n",
       "      <td>9</td>\n",
       "      <td>34</td>\n",
       "      <td>1</td>\n",
       "      <td>1</td>\n",
       "    </tr>\n",
       "    <tr>\n",
       "      <th>1</th>\n",
       "      <td>203</td>\n",
       "      <td>20</td>\n",
       "      <td>21</td>\n",
       "      <td>1</td>\n",
       "      <td>1</td>\n",
       "    </tr>\n",
       "    <tr>\n",
       "      <th>2</th>\n",
       "      <td>229</td>\n",
       "      <td>18</td>\n",
       "      <td>37</td>\n",
       "      <td>1</td>\n",
       "      <td>1</td>\n",
       "    </tr>\n",
       "    <tr>\n",
       "      <th>3</th>\n",
       "      <td>208</td>\n",
       "      <td>16</td>\n",
       "      <td>31</td>\n",
       "      <td>1</td>\n",
       "      <td>1</td>\n",
       "    </tr>\n",
       "    <tr>\n",
       "      <th>4</th>\n",
       "      <td>146</td>\n",
       "      <td>9</td>\n",
       "      <td>10</td>\n",
       "      <td>1</td>\n",
       "      <td>1</td>\n",
       "    </tr>\n",
       "  </tbody>\n",
       "</table>\n",
       "</div>"
      ],
      "text/plain": [
       "   WDS  SEN  3SYL  MAG  GROUP\n",
       "0  205    9    34    1      1\n",
       "1  203   20    21    1      1\n",
       "2  229   18    37    1      1\n",
       "3  208   16    31    1      1\n",
       "4  146    9    10    1      1"
      ]
     },
     "execution_count": 10,
     "metadata": {},
     "output_type": "execute_result"
    }
   ],
   "source": [
    "data13 = pd.read_csv(\"1.13.csv\")\n",
    "data13.head()"
   ]
  },
  {
   "cell_type": "markdown",
   "metadata": {},
   "source": [
    "## 3SYL among groups"
   ]
  },
  {
   "cell_type": "code",
   "execution_count": 11,
   "metadata": {},
   "outputs": [],
   "source": [
    "data13_group_one = data13[data13[\"GROUP\"] == 1]\n",
    "data13_group_two = data13[data13[\"GROUP\"] == 2]\n",
    "data13_group_three = data13[data13[\"GROUP\"] == 3]"
   ]
  },
  {
   "cell_type": "code",
   "execution_count": 12,
   "metadata": {},
   "outputs": [
    {
     "data": {
      "image/png": "[encoded data removed]",
      "text/plain": [
       "<Figure size 432x288 with 3 Axes>"
      ]
     },
     "metadata": {
      "needs_background": "light"
     },
     "output_type": "display_data"
    }
   ],
   "source": [
    "plt.subplot(1, 3, 1)\n",
    "plt.boxplot(data13_group_one[\"3SYL\"])\n",
    "plt.title(\"Group 1\")\n",
    "\n",
    "plt.subplot(1, 3, 2)\n",
    "plt.boxplot(data13_group_two[\"3SYL\"])\n",
    "plt.title(\"Group 2\")\n",
    "\n",
    "plt.subplot(1, 3, 3)\n",
    "plt.boxplot(data13_group_three[\"3SYL\"])\n",
    "plt.title(\"Group 3\")\n",
    "\n",
    "plt.subplots_adjust(wspace=0.5)\n",
    "plt.savefig(\"figure/1.13 3SYL.png\")"
   ]
  },
  {
   "cell_type": "markdown",
   "metadata": {},
   "source": [
    "## Sentence among groups"
   ]
  },
  {
   "cell_type": "code",
   "execution_count": 13,
   "metadata": {},
   "outputs": [
    {
     "data": {
      "image/png": "[encoded data removed]",
      "text/plain": [
       "<Figure size 432x288 with 3 Axes>"
      ]
     },
     "metadata": {
      "needs_background": "light"
     },
     "output_type": "display_data"
    }
   ],
   "source": [
    "plt.subplot(1, 3, 1)\n",
    "plt.boxplot(data13_group_one[\"SEN\"])\n",
    "plt.title(\"Group 1\")\n",
    "\n",
    "plt.subplot(1, 3, 2)\n",
    "plt.boxplot(data13_group_two[\"SEN\"])\n",
    "plt.title(\"Group 2\")\n",
    "\n",
    "plt.subplot(1, 3, 3)\n",
    "plt.boxplot(data13_group_three[\"SEN\"])\n",
    "plt.title(\"Group 3\")\n",
    "\n",
    "plt.subplots_adjust(wspace=0.5)\n",
    "plt.savefig(\"figure/1.13 SEN.svg\")"
   ]
  }
 ],
 "metadata": {
  "kernelspec": {
   "display_name": "Python 3",
   "language": "python",
   "name": "python3"
  },
  "language_info": {
   "codemirror_mode": {
    "name": "ipython",
    "version": 3
   },
   "file_extension": ".py",
   "mimetype": "text/x-python",
   "name": "python",
   "nbconvert_exporter": "python",
   "pygments_lexer": "ipython3",
   "version": "3.7.6"
  }
 },
 "nbformat": 4,
 "nbformat_minor": 2
}
